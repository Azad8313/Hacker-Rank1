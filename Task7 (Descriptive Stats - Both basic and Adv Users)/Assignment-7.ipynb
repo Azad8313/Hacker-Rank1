{
 "cells": [
  {
   "cell_type": "markdown",
   "id": "2d27f2b2",
   "metadata": {},
   "source": [
    "## Import essential libraries"
   ]
  },
  {
   "cell_type": "code",
   "execution_count": 33,
   "id": "192ff374",
   "metadata": {},
   "outputs": [],
   "source": [
    "import pandas as pd\n",
    "import matplotlib.pyplot as plt\n",
    "import statistics,math\n",
    "import statsmodels.api as sm\n",
    "import numpy as np"
   ]
  },
  {
   "cell_type": "code",
   "execution_count": 34,
   "id": "e9c4d6d8",
   "metadata": {},
   "outputs": [],
   "source": [
    "#read data \n",
    "df=pd.read_csv('data.csv')"
   ]
  },
  {
   "cell_type": "code",
   "execution_count": 35,
   "id": "aae027e2",
   "metadata": {},
   "outputs": [
    {
     "data": {
      "text/html": [
       "<div>\n",
       "<style scoped>\n",
       "    .dataframe tbody tr th:only-of-type {\n",
       "        vertical-align: middle;\n",
       "    }\n",
       "\n",
       "    .dataframe tbody tr th {\n",
       "        vertical-align: top;\n",
       "    }\n",
       "\n",
       "    .dataframe thead th {\n",
       "        text-align: right;\n",
       "    }\n",
       "</style>\n",
       "<table border=\"1\" class=\"dataframe\">\n",
       "  <thead>\n",
       "    <tr style=\"text-align: right;\">\n",
       "      <th></th>\n",
       "      <th>Mthly_HH_Income</th>\n",
       "      <th>Mthly_HH_Expense</th>\n",
       "      <th>No_of_Fly_Members</th>\n",
       "      <th>Emi_or_Rent_Amt</th>\n",
       "      <th>Annual_HH_Income</th>\n",
       "      <th>Highest_Qualified_Member</th>\n",
       "      <th>No_of_Earning_Members</th>\n",
       "    </tr>\n",
       "  </thead>\n",
       "  <tbody>\n",
       "    <tr>\n",
       "      <th>0</th>\n",
       "      <td>5000</td>\n",
       "      <td>8000</td>\n",
       "      <td>3</td>\n",
       "      <td>2000</td>\n",
       "      <td>64200</td>\n",
       "      <td>Under-Graduate</td>\n",
       "      <td>1</td>\n",
       "    </tr>\n",
       "    <tr>\n",
       "      <th>1</th>\n",
       "      <td>6000</td>\n",
       "      <td>7000</td>\n",
       "      <td>2</td>\n",
       "      <td>3000</td>\n",
       "      <td>79920</td>\n",
       "      <td>Illiterate</td>\n",
       "      <td>1</td>\n",
       "    </tr>\n",
       "    <tr>\n",
       "      <th>2</th>\n",
       "      <td>10000</td>\n",
       "      <td>4500</td>\n",
       "      <td>2</td>\n",
       "      <td>0</td>\n",
       "      <td>112800</td>\n",
       "      <td>Under-Graduate</td>\n",
       "      <td>1</td>\n",
       "    </tr>\n",
       "    <tr>\n",
       "      <th>3</th>\n",
       "      <td>10000</td>\n",
       "      <td>2000</td>\n",
       "      <td>1</td>\n",
       "      <td>0</td>\n",
       "      <td>97200</td>\n",
       "      <td>Illiterate</td>\n",
       "      <td>1</td>\n",
       "    </tr>\n",
       "    <tr>\n",
       "      <th>4</th>\n",
       "      <td>12500</td>\n",
       "      <td>12000</td>\n",
       "      <td>2</td>\n",
       "      <td>3000</td>\n",
       "      <td>147000</td>\n",
       "      <td>Graduate</td>\n",
       "      <td>1</td>\n",
       "    </tr>\n",
       "  </tbody>\n",
       "</table>\n",
       "</div>"
      ],
      "text/plain": [
       "   Mthly_HH_Income  Mthly_HH_Expense  No_of_Fly_Members  Emi_or_Rent_Amt  \\\n",
       "0             5000              8000                  3             2000   \n",
       "1             6000              7000                  2             3000   \n",
       "2            10000              4500                  2                0   \n",
       "3            10000              2000                  1                0   \n",
       "4            12500             12000                  2             3000   \n",
       "\n",
       "   Annual_HH_Income Highest_Qualified_Member  No_of_Earning_Members  \n",
       "0             64200           Under-Graduate                      1  \n",
       "1             79920               Illiterate                      1  \n",
       "2            112800           Under-Graduate                      1  \n",
       "3             97200               Illiterate                      1  \n",
       "4            147000                 Graduate                      1  "
      ]
     },
     "execution_count": 35,
     "metadata": {},
     "output_type": "execute_result"
    }
   ],
   "source": [
    "#print head\n",
    "df.head()"
   ]
  },
  {
   "cell_type": "code",
   "execution_count": 36,
   "id": "a441e0d7",
   "metadata": {},
   "outputs": [
    {
     "data": {
      "text/plain": [
       "(50, 7)"
      ]
     },
     "execution_count": 36,
     "metadata": {},
     "output_type": "execute_result"
    }
   ],
   "source": [
    "#print shape of the data set\n",
    "df.shape"
   ]
  },
  {
   "cell_type": "code",
   "execution_count": 37,
   "id": "06047d73",
   "metadata": {},
   "outputs": [
    {
     "name": "stdout",
     "output_type": "stream",
     "text": [
      "<class 'pandas.core.frame.DataFrame'>\n",
      "RangeIndex: 50 entries, 0 to 49\n",
      "Data columns (total 7 columns):\n",
      " #   Column                    Non-Null Count  Dtype \n",
      "---  ------                    --------------  ----- \n",
      " 0   Mthly_HH_Income           50 non-null     int64 \n",
      " 1   Mthly_HH_Expense          50 non-null     int64 \n",
      " 2   No_of_Fly_Members         50 non-null     int64 \n",
      " 3   Emi_or_Rent_Amt           50 non-null     int64 \n",
      " 4   Annual_HH_Income          50 non-null     int64 \n",
      " 5   Highest_Qualified_Member  50 non-null     object\n",
      " 6   No_of_Earning_Members     50 non-null     int64 \n",
      "dtypes: int64(6), object(1)\n",
      "memory usage: 2.9+ KB\n"
     ]
    }
   ],
   "source": [
    "#information about data\n",
    "df.info()"
   ]
  },
  {
   "cell_type": "code",
   "execution_count": 38,
   "id": "be97a65d",
   "metadata": {},
   "outputs": [
    {
     "data": {
      "text/plain": [
       "Index(['Mthly_HH_Income', 'Mthly_HH_Expense', 'No_of_Fly_Members',\n",
       "       'Emi_or_Rent_Amt', 'Annual_HH_Income', 'Highest_Qualified_Member',\n",
       "       'No_of_Earning_Members'],\n",
       "      dtype='object')"
      ]
     },
     "execution_count": 38,
     "metadata": {},
     "output_type": "execute_result"
    }
   ],
   "source": [
    "#print columns\n",
    "df.columns"
   ]
  },
  {
   "cell_type": "code",
   "execution_count": 39,
   "id": "0db6b969",
   "metadata": {},
   "outputs": [
    {
     "data": {
      "text/html": [
       "<div>\n",
       "<style scoped>\n",
       "    .dataframe tbody tr th:only-of-type {\n",
       "        vertical-align: middle;\n",
       "    }\n",
       "\n",
       "    .dataframe tbody tr th {\n",
       "        vertical-align: top;\n",
       "    }\n",
       "\n",
       "    .dataframe thead th {\n",
       "        text-align: right;\n",
       "    }\n",
       "</style>\n",
       "<table border=\"1\" class=\"dataframe\">\n",
       "  <thead>\n",
       "    <tr style=\"text-align: right;\">\n",
       "      <th></th>\n",
       "      <th>Mthly_HH_Income</th>\n",
       "      <th>Mthly_HH_Expense</th>\n",
       "      <th>No_of_Fly_Members</th>\n",
       "      <th>Emi_or_Rent_Amt</th>\n",
       "      <th>Annual_HH_Income</th>\n",
       "      <th>No_of_Earning_Members</th>\n",
       "    </tr>\n",
       "  </thead>\n",
       "  <tbody>\n",
       "    <tr>\n",
       "      <th>count</th>\n",
       "      <td>50.000000</td>\n",
       "      <td>50.000000</td>\n",
       "      <td>50.000000</td>\n",
       "      <td>50.000000</td>\n",
       "      <td>5.000000e+01</td>\n",
       "      <td>50.000000</td>\n",
       "    </tr>\n",
       "    <tr>\n",
       "      <th>mean</th>\n",
       "      <td>41558.000000</td>\n",
       "      <td>18818.000000</td>\n",
       "      <td>4.060000</td>\n",
       "      <td>3060.000000</td>\n",
       "      <td>4.900190e+05</td>\n",
       "      <td>1.460000</td>\n",
       "    </tr>\n",
       "    <tr>\n",
       "      <th>std</th>\n",
       "      <td>26097.908979</td>\n",
       "      <td>12090.216824</td>\n",
       "      <td>1.517382</td>\n",
       "      <td>6241.434948</td>\n",
       "      <td>3.201358e+05</td>\n",
       "      <td>0.734291</td>\n",
       "    </tr>\n",
       "    <tr>\n",
       "      <th>min</th>\n",
       "      <td>5000.000000</td>\n",
       "      <td>2000.000000</td>\n",
       "      <td>1.000000</td>\n",
       "      <td>0.000000</td>\n",
       "      <td>6.420000e+04</td>\n",
       "      <td>1.000000</td>\n",
       "    </tr>\n",
       "    <tr>\n",
       "      <th>25%</th>\n",
       "      <td>23550.000000</td>\n",
       "      <td>10000.000000</td>\n",
       "      <td>3.000000</td>\n",
       "      <td>0.000000</td>\n",
       "      <td>2.587500e+05</td>\n",
       "      <td>1.000000</td>\n",
       "    </tr>\n",
       "    <tr>\n",
       "      <th>50%</th>\n",
       "      <td>35000.000000</td>\n",
       "      <td>15500.000000</td>\n",
       "      <td>4.000000</td>\n",
       "      <td>0.000000</td>\n",
       "      <td>4.474200e+05</td>\n",
       "      <td>1.000000</td>\n",
       "    </tr>\n",
       "    <tr>\n",
       "      <th>75%</th>\n",
       "      <td>50375.000000</td>\n",
       "      <td>25000.000000</td>\n",
       "      <td>5.000000</td>\n",
       "      <td>3500.000000</td>\n",
       "      <td>5.947200e+05</td>\n",
       "      <td>2.000000</td>\n",
       "    </tr>\n",
       "    <tr>\n",
       "      <th>max</th>\n",
       "      <td>100000.000000</td>\n",
       "      <td>50000.000000</td>\n",
       "      <td>7.000000</td>\n",
       "      <td>35000.000000</td>\n",
       "      <td>1.404000e+06</td>\n",
       "      <td>4.000000</td>\n",
       "    </tr>\n",
       "  </tbody>\n",
       "</table>\n",
       "</div>"
      ],
      "text/plain": [
       "       Mthly_HH_Income  Mthly_HH_Expense  No_of_Fly_Members  Emi_or_Rent_Amt  \\\n",
       "count        50.000000         50.000000          50.000000        50.000000   \n",
       "mean      41558.000000      18818.000000           4.060000      3060.000000   \n",
       "std       26097.908979      12090.216824           1.517382      6241.434948   \n",
       "min        5000.000000       2000.000000           1.000000         0.000000   \n",
       "25%       23550.000000      10000.000000           3.000000         0.000000   \n",
       "50%       35000.000000      15500.000000           4.000000         0.000000   \n",
       "75%       50375.000000      25000.000000           5.000000      3500.000000   \n",
       "max      100000.000000      50000.000000           7.000000     35000.000000   \n",
       "\n",
       "       Annual_HH_Income  No_of_Earning_Members  \n",
       "count      5.000000e+01              50.000000  \n",
       "mean       4.900190e+05               1.460000  \n",
       "std        3.201358e+05               0.734291  \n",
       "min        6.420000e+04               1.000000  \n",
       "25%        2.587500e+05               1.000000  \n",
       "50%        4.474200e+05               1.000000  \n",
       "75%        5.947200e+05               2.000000  \n",
       "max        1.404000e+06               4.000000  "
      ]
     },
     "execution_count": 39,
     "metadata": {},
     "output_type": "execute_result"
    }
   ],
   "source": [
    "df.describe()"
   ]
  },
  {
   "cell_type": "markdown",
   "id": "d698d7e2",
   "metadata": {},
   "source": [
    "<center><h2>Mean</h2></center>"
   ]
  },
  {
   "cell_type": "markdown",
   "id": "af2383f5",
   "metadata": {},
   "source": [
    "<h4>Defination:<br><b><p>In statistics, the mean summarizes an entire dataset with a single number representing the data’s center point or typical value. It is also known as the arithmetic average, and it is one of several measures of central tendency.</p></b></h4>\n",
    "<center><h4>Formula:<br>\n",
    "    $$ \\overline{\\rm x}  = \\sum_{i}\\,\\frac{x_{i}}{n} $$ \n",
    "    </h4>\n",
    "    Where,<br>\n",
    "       $$ \\overline{\\rm x}=Mean $$\n",
    "       $$ x_{i}=All terms in the list $$\n",
    "        n= Total number of element\n",
    "    </center>"
   ]
  },
  {
   "cell_type": "markdown",
   "id": "0b0be5df",
   "metadata": {},
   "source": [
    "<h5>Mean of Mthly_HH_Income column </h5>"
   ]
  },
  {
   "cell_type": "code",
   "execution_count": 40,
   "id": "5a58a6b5",
   "metadata": {},
   "outputs": [
    {
     "data": {
      "text/plain": [
       "41558.0"
      ]
     },
     "execution_count": 40,
     "metadata": {},
     "output_type": "execute_result"
    }
   ],
   "source": [
    "#using library function\n",
    "df['Mthly_HH_Income'].mean()\n"
   ]
  },
  {
   "cell_type": "code",
   "execution_count": 41,
   "id": "c2279c81",
   "metadata": {},
   "outputs": [
    {
     "name": "stdout",
     "output_type": "stream",
     "text": [
      "41558.0\n"
     ]
    }
   ],
   "source": [
    "#Without-built-in function\n",
    "col=df[\"Mthly_HH_Income\"]\n",
    "# first_col\n",
    "l=[]\n",
    "for i in col:\n",
    "    l.append(i)\n",
    "# print(l)\n",
    "sum=0\n",
    "for num in range(0,len(l)):\n",
    "    sum+=l[num]\n",
    "mean=sum/len(l) \n",
    "print(mean)"
   ]
  },
  {
   "cell_type": "markdown",
   "id": "1e8d6758",
   "metadata": {},
   "source": [
    "<h5>Mean of Mthly_HH_Expense column </h5>"
   ]
  },
  {
   "cell_type": "code",
   "execution_count": 42,
   "id": "52d321d7",
   "metadata": {},
   "outputs": [
    {
     "data": {
      "text/plain": [
       "18818.0"
      ]
     },
     "execution_count": 42,
     "metadata": {},
     "output_type": "execute_result"
    }
   ],
   "source": [
    "#using built-in function\n",
    "df['Mthly_HH_Expense'].mean()"
   ]
  },
  {
   "cell_type": "code",
   "execution_count": 43,
   "id": "404624a0",
   "metadata": {},
   "outputs": [
    {
     "name": "stdout",
     "output_type": "stream",
     "text": [
      "18818.0\n"
     ]
    }
   ],
   "source": [
    "#using with out built-in function\n",
    "col=df[\"Mthly_HH_Expense\"]\n",
    "l=[]\n",
    "for i in col:\n",
    "    l.append(i)\n",
    "# print(l)\n",
    "sum=0\n",
    "for num in range(0,len(l)):\n",
    "    sum+=l[num]\n",
    "mean=sum/len(l) \n",
    "print(mean)"
   ]
  },
  {
   "cell_type": "markdown",
   "id": "504f5505",
   "metadata": {},
   "source": [
    "<h5>Mean of Annual_HH_Income column </h5>"
   ]
  },
  {
   "cell_type": "code",
   "execution_count": 44,
   "id": "ebd30e77",
   "metadata": {},
   "outputs": [
    {
     "data": {
      "text/plain": [
       "490019.04"
      ]
     },
     "execution_count": 44,
     "metadata": {},
     "output_type": "execute_result"
    }
   ],
   "source": [
    "#using built-in function\n",
    "df['Annual_HH_Income'].mean()"
   ]
  },
  {
   "cell_type": "code",
   "execution_count": 45,
   "id": "43695277",
   "metadata": {},
   "outputs": [
    {
     "name": "stdout",
     "output_type": "stream",
     "text": [
      "490019.04\n"
     ]
    }
   ],
   "source": [
    "#using without built-in function\n",
    "col=df[\"Annual_HH_Income\"]\n",
    "l=[]\n",
    "for i in col:\n",
    "    l.append(i)\n",
    "# print(l)\n",
    "sum=0\n",
    "for num in range(0,len(l)):\n",
    "    sum+=l[num]\n",
    "mean=sum/len(l) \n",
    "print(mean)"
   ]
  },
  {
   "cell_type": "markdown",
   "id": "c1bed10a",
   "metadata": {},
   "source": [
    "<center><h2>Median</h2></center>"
   ]
  },
  {
   "cell_type": "markdown",
   "id": "f3bd5457",
   "metadata": {},
   "source": [
    "<h4><p><strong>Defination:</strong><br>Median, in statistics, is the middle value of the given list of data, when arranged in an order. The arrangement of data or observations can be done either in ascending order or descending order. </p></h4>\n",
    "<center><h3>Formula:</h3></center>\n",
    "<h5>Mid=$\\frac{n+1}{2}$ Where n= Total number of element</h5>\n",
    "<h5>If the number of element is odd then median is <b>mid</b> value</h5>\n",
    "<h5>If the number of element is even then median = $\\frac{mid+(mid+1)}{2}$</h5>"
   ]
  },
  {
   "cell_type": "markdown",
   "id": "a8e24c14",
   "metadata": {},
   "source": [
    "<h4>Median of Mthly_HH_Income column </h4>"
   ]
  },
  {
   "cell_type": "code",
   "execution_count": 46,
   "id": "6e8d1d21",
   "metadata": {},
   "outputs": [
    {
     "data": {
      "text/plain": [
       "35000.0"
      ]
     },
     "execution_count": 46,
     "metadata": {},
     "output_type": "execute_result"
    }
   ],
   "source": [
    "#using built-in function\n",
    "df['Mthly_HH_Income'].median()"
   ]
  },
  {
   "cell_type": "code",
   "execution_count": 47,
   "id": "08df7541",
   "metadata": {},
   "outputs": [
    {
     "name": "stdout",
     "output_type": "stream",
     "text": [
      "35000.0\n"
     ]
    }
   ],
   "source": [
    "#without using built-in function\n",
    "col=df[\"Mthly_HH_Income\"]\n",
    "l=[]\n",
    "for i in col:\n",
    "    l.append(i)\n",
    "l.sort()\n",
    "# print(l)\n",
    "mid=len(l)//2\n",
    "if (len(l)) %2 !=0:\n",
    "#     mid=len(l)//2\n",
    "    print(l[mid])\n",
    "else:\n",
    "    median=(l[mid-1]+l[mid])/2\n",
    "    print(median)"
   ]
  },
  {
   "cell_type": "markdown",
   "id": "60f58bca",
   "metadata": {},
   "source": [
    "<h4>Median of Mthly_HH_Expense column </h4>"
   ]
  },
  {
   "cell_type": "code",
   "execution_count": 48,
   "id": "cbf7d3c6",
   "metadata": {},
   "outputs": [
    {
     "data": {
      "text/plain": [
       "15500.0"
      ]
     },
     "execution_count": 48,
     "metadata": {},
     "output_type": "execute_result"
    }
   ],
   "source": [
    "#using built-in function\n",
    "df['Mthly_HH_Expense'].median()"
   ]
  },
  {
   "cell_type": "code",
   "execution_count": 49,
   "id": "b0227e1d",
   "metadata": {},
   "outputs": [
    {
     "name": "stdout",
     "output_type": "stream",
     "text": [
      "15500.0\n"
     ]
    }
   ],
   "source": [
    "#without using built-in function\n",
    "col=df[\"Mthly_HH_Expense\"]\n",
    "l=[]\n",
    "for i in col:\n",
    "    l.append(i)\n",
    "l.sort()\n",
    "# print(l)\n",
    "mid=len(l)//2\n",
    "if (len(l)) %2 !=0:\n",
    "#     mid=len(l)//2\n",
    "    print(l[mid])\n",
    "else:\n",
    "    median=(l[mid-1]+l[mid])/2\n",
    "    print(median)"
   ]
  },
  {
   "cell_type": "markdown",
   "id": "046953f4",
   "metadata": {},
   "source": [
    "<h4>Median of Annual_HH_Income column</h4>"
   ]
  },
  {
   "cell_type": "code",
   "execution_count": 50,
   "id": "970af357",
   "metadata": {},
   "outputs": [
    {
     "data": {
      "text/plain": [
       "447420.0"
      ]
     },
     "execution_count": 50,
     "metadata": {},
     "output_type": "execute_result"
    }
   ],
   "source": [
    "#using built-in function\n",
    "df['Annual_HH_Income'].median()"
   ]
  },
  {
   "cell_type": "code",
   "execution_count": 51,
   "id": "03bb6542",
   "metadata": {},
   "outputs": [
    {
     "name": "stdout",
     "output_type": "stream",
     "text": [
      "447420.0\n"
     ]
    }
   ],
   "source": [
    "#without using built-in function\n",
    "col=df[\"Annual_HH_Income\"]\n",
    "l=[]\n",
    "for i in col:\n",
    "    l.append(i)\n",
    "l.sort()\n",
    "# print(l)\n",
    "mid=len(l)//2\n",
    "if (len(l)) %2 !=0:\n",
    "#     mid=len(l)//2\n",
    "    print(l[mid])\n",
    "else:\n",
    "    median=(l[mid-1]+l[mid])/2\n",
    "    print(median)"
   ]
  },
  {
   "cell_type": "markdown",
   "id": "459193db",
   "metadata": {},
   "source": [
    "<center><h2>Mode</h2></center>\n",
    "<h4>Defination:<br>In statistics, the mode is the value that is repeatedly occurring in a given set.</h4>"
   ]
  },
  {
   "cell_type": "markdown",
   "id": "fabcdd66",
   "metadata": {},
   "source": [
    "<h4>Mode of Mthly_HH_Income column</h4>"
   ]
  },
  {
   "cell_type": "code",
   "execution_count": 52,
   "id": "14410e4b",
   "metadata": {},
   "outputs": [
    {
     "data": {
      "text/plain": [
       "45000"
      ]
     },
     "execution_count": 52,
     "metadata": {},
     "output_type": "execute_result"
    }
   ],
   "source": [
    "#using built-in function\n",
    "df[\"Mthly_HH_Income\"].mode()[0]"
   ]
  },
  {
   "cell_type": "code",
   "execution_count": 53,
   "id": "436f96d4",
   "metadata": {},
   "outputs": [
    {
     "name": "stdout",
     "output_type": "stream",
     "text": [
      "45000\n"
     ]
    }
   ],
   "source": [
    "#with out using built-in function\n",
    "col=df[\"Mthly_HH_Income\"]\n",
    "l=[]\n",
    "for i in col:\n",
    "    l.append(i)\n",
    "d={}\n",
    "for i in l:\n",
    "    if i in d:\n",
    "        d[i]+=1\n",
    "    else:\n",
    "        d[i]=1\n",
    "# print(d)\n",
    "mode=max(zip(d.values(),d.keys()))[1]\n",
    "print(mode)"
   ]
  },
  {
   "cell_type": "markdown",
   "id": "5a0b000c",
   "metadata": {},
   "source": [
    "<h4>Mode of Mthly_HH_Expense column</h4>"
   ]
  },
  {
   "cell_type": "code",
   "execution_count": 54,
   "id": "e2672a93",
   "metadata": {},
   "outputs": [
    {
     "data": {
      "text/plain": [
       "25000"
      ]
     },
     "execution_count": 54,
     "metadata": {},
     "output_type": "execute_result"
    }
   ],
   "source": [
    "#using built-in function\n",
    "df[\"Mthly_HH_Expense\"].mode()[0]"
   ]
  },
  {
   "cell_type": "code",
   "execution_count": 55,
   "id": "351f51fe",
   "metadata": {},
   "outputs": [
    {
     "name": "stdout",
     "output_type": "stream",
     "text": [
      "25000\n"
     ]
    }
   ],
   "source": [
    "#with out using built-in function\n",
    "col=df[\"Mthly_HH_Expense\"]\n",
    "l=[]\n",
    "for i in col:\n",
    "    l.append(i)\n",
    "d={}\n",
    "for i in l:\n",
    "    if i in d:\n",
    "        d[i]+=1\n",
    "    else:\n",
    "        d[i]=1\n",
    "# print(d)\n",
    "mode=max(zip(d.values(),d.keys()))[1]\n",
    "print(mode)"
   ]
  },
  {
   "cell_type": "markdown",
   "id": "636546c7",
   "metadata": {},
   "source": [
    "<h4>Mode of Annual_HH_Income column</h4>"
   ]
  },
  {
   "cell_type": "code",
   "execution_count": 56,
   "id": "f4056b4a",
   "metadata": {},
   "outputs": [
    {
     "data": {
      "text/plain": [
       "590400"
      ]
     },
     "execution_count": 56,
     "metadata": {},
     "output_type": "execute_result"
    }
   ],
   "source": [
    "#using built-in function\n",
    "df[\"Annual_HH_Income\"].mode()[0]"
   ]
  },
  {
   "cell_type": "code",
   "execution_count": 57,
   "id": "392e5cda",
   "metadata": {},
   "outputs": [
    {
     "name": "stdout",
     "output_type": "stream",
     "text": [
      "590400\n"
     ]
    }
   ],
   "source": [
    "#with out using built-in function\n",
    "col=df[\"Annual_HH_Income\"]\n",
    "l=[]\n",
    "for i in col:\n",
    "    l.append(i)\n",
    "d={}\n",
    "for i in l:\n",
    "    if i in d:\n",
    "        d[i]+=1\n",
    "    else:\n",
    "        d[i]=1\n",
    "# print(d)\n",
    "mode=max(zip(d.values(),d.keys()))[1]\n",
    "print(mode)"
   ]
  },
  {
   "cell_type": "markdown",
   "id": "be09637f",
   "metadata": {},
   "source": [
    "<center><h2>Variance</h2></center>\n",
    "<h4><p>Defination:<br> The term variance refers to a statistical measurement of the spread between number of a data set.</p></h4>\n",
    "<center><h3>Formula:</h3></center>\n",
    "\n",
    "$$ S^2 = \\frac{\\sum(x_{i}-\\overline{\\rm x})^2}{n-1}$$\n",
    "<center><h5>Where,<br>$ S^2$=Sample variance<br>$x_{i}$=The value of the one observation<br>$\\overline{\\rm x}$=Mean<br>\n",
    "n=Number of observation </h5></center>\n",
    "\n",
    "\n",
    "<hr><hr>\n",
    "\n",
    "<center><h2>Standard Deviation</h2></center>\n",
    "<h4><p>Defination:<br>It is a measure of how dispersed the data is in relation to the mean.</p></h4>\n",
    "\n",
    "<center><h3>Formula:</h3></center>\n",
    "\n",
    "$$ Standard  Deviation(S.D) =\\sqrt{Variance}$$\n",
    "\n"
   ]
  },
  {
   "cell_type": "markdown",
   "id": "9ac2a2e8",
   "metadata": {},
   "source": [
    "<h4>Variance and Standard deviation of Mthly_HH_Income column</h4>"
   ]
  },
  {
   "cell_type": "code",
   "execution_count": 58,
   "id": "d442d6f0",
   "metadata": {},
   "outputs": [
    {
     "name": "stdout",
     "output_type": "stream",
     "text": [
      "Variance is using built-in-function:  681100853.0612245\n",
      "==============================================================\n",
      "Varience with out using built-in-function is:  681100853.0612245\n",
      "==============================================================\n",
      "Stranderd daviation without in build function is:  26097.908978713687\n",
      "==============================================================\n",
      "Stranderd daviation using in build function is:  26097.908978713687\n"
     ]
    }
   ],
   "source": [
    "col=df[\"Mthly_HH_Income\"]\n",
    "l=[]\n",
    "for i in col:\n",
    "    l.append(i)\n",
    "# print(l)\n",
    "print(\"Variance is using built-in-function: \",statistics.variance(l))\n",
    "print(\"==============================================================\")\n",
    "mean=statistics.mean(l)\n",
    "# print(mean)\n",
    "l1=[]\n",
    "\n",
    "for j in range(0,len(l)):\n",
    "    l1.append((l[j]-mean)**2)\n",
    "sum=0    \n",
    "for k in range(0,len(l1)):\n",
    "    sum+=l1[k]\n",
    "# print(sum)\n",
    "# print(len(l1))\n",
    "variance=sum/(len(l1)-1)\n",
    "print(\"Varience with out using built-in-function is: \",variance)\n",
    "sd=math.sqrt(variance)\n",
    "print(\"==============================================================\")\n",
    "print(\"Stranderd daviation without in build function is: \",sd)\n",
    "print(\"==============================================================\")\n",
    "print(\"Stranderd daviation using in build function is: \",statistics.stdev(l))"
   ]
  },
  {
   "cell_type": "markdown",
   "id": "dc727b7b",
   "metadata": {},
   "source": [
    "<h4>Variance and Standard deviation of Mthly_HH_Expense column</h4>"
   ]
  },
  {
   "cell_type": "code",
   "execution_count": 59,
   "id": "a0bf5b52",
   "metadata": {},
   "outputs": [
    {
     "name": "stdout",
     "output_type": "stream",
     "text": [
      "Variance using built-in function is:  146173342.85714287\n",
      "==============================================================\n",
      "Varience  without using built-in-function is:  146173342.85714287\n",
      "==============================================================\n",
      "Stranderd daviation without in build function is:  12090.216824240286\n",
      "==============================================================\n",
      "Stranderd daviation using in build function is:  12090.216824240286\n"
     ]
    }
   ],
   "source": [
    "col=df[\"Mthly_HH_Expense\"]\n",
    "l=[]\n",
    "for i in col:\n",
    "    l.append(i)\n",
    "# print(l)\n",
    "print(\"Variance using built-in function is: \",statistics.variance(l))\n",
    "print(\"==============================================================\")\n",
    "mean=statistics.mean(l)\n",
    "# print(mean)\n",
    "l1=[]\n",
    "\n",
    "for j in range(0,len(l)):\n",
    "    l1.append((l[j]-mean)**2)\n",
    "sum=0    \n",
    "for k in range(0,len(l1)):\n",
    "    sum+=l1[k]\n",
    "# print(sum)\n",
    "# print(len(l1))\n",
    "variance=sum/(len(l1)-1)\n",
    "print(\"Varience  without using built-in-function is: \",variance)\n",
    "print(\"==============================================================\")\n",
    "sd=math.sqrt(variance)\n",
    "print(\"Stranderd daviation without in build function is: \",sd)\n",
    "print(\"==============================================================\")\n",
    "print(\"Stranderd daviation using in build function is: \",statistics.stdev(l))"
   ]
  },
  {
   "cell_type": "markdown",
   "id": "04f943d6",
   "metadata": {},
   "source": [
    "<h4>Variance and Standard deviation of Annual_HH_Income column</h4>"
   ]
  },
  {
   "cell_type": "code",
   "execution_count": 60,
   "id": "b7fb5996",
   "metadata": {},
   "outputs": [
    {
     "name": "stdout",
     "output_type": "stream",
     "text": [
      "Variance using built-in function is:  102486925397.91672\n",
      "==============================================================\n",
      "Varience  without using built-in-function is:  102486925397.91666\n",
      "==============================================================\n",
      "Stranderd daviation without in build function is:  320135.79212252516\n",
      "==============================================================\n",
      "Stranderd daviation using in build function is:  320135.7921225253\n"
     ]
    }
   ],
   "source": [
    "col=df[\"Annual_HH_Income\"]\n",
    "l=[]\n",
    "for i in col:\n",
    "    l.append(i)\n",
    "# print(l)\n",
    "print(\"Variance using built-in function is: \",statistics.variance(l))\n",
    "print(\"==============================================================\")\n",
    "mean=statistics.mean(l)\n",
    "# print(mean)\n",
    "l1=[]\n",
    "\n",
    "for j in range(0,len(l)):\n",
    "    l1.append((l[j]-mean)**2)\n",
    "sum=0    \n",
    "for k in range(0,len(l1)):\n",
    "    sum+=l1[k]\n",
    "# print(sum)\n",
    "# print(len(l1))\n",
    "variance=sum/(len(l1)-1)\n",
    "print(\"Varience  without using built-in-function is: \",variance)\n",
    "print(\"==============================================================\")\n",
    "sd=math.sqrt(variance)\n",
    "print(\"Stranderd daviation without in build function is: \",sd)\n",
    "print(\"==============================================================\")\n",
    "print(\"Stranderd daviation using in build function is: \",statistics.stdev(l))"
   ]
  },
  {
   "cell_type": "markdown",
   "id": "09d15f14",
   "metadata": {},
   "source": [
    "<center><h2>Correlation</h2></center>\n",
    "\n",
    "<h4><p>Defination:<br>Correlation is a statistical measure that describes the size and direction of a relationship between two or more variables.</p></h4>\n",
    "\n",
    "<center><h4>Formula:</h4>\n",
    "<img src=\"cor.jpg\" width=\"45%\">\n",
    "</center>"
   ]
  },
  {
   "cell_type": "code",
   "execution_count": 61,
   "id": "83096950",
   "metadata": {},
   "outputs": [
    {
     "data": {
      "text/html": [
       "<div>\n",
       "<style scoped>\n",
       "    .dataframe tbody tr th:only-of-type {\n",
       "        vertical-align: middle;\n",
       "    }\n",
       "\n",
       "    .dataframe tbody tr th {\n",
       "        vertical-align: top;\n",
       "    }\n",
       "\n",
       "    .dataframe thead th {\n",
       "        text-align: right;\n",
       "    }\n",
       "</style>\n",
       "<table border=\"1\" class=\"dataframe\">\n",
       "  <thead>\n",
       "    <tr style=\"text-align: right;\">\n",
       "      <th></th>\n",
       "      <th>Mthly_HH_Income</th>\n",
       "      <th>Mthly_HH_Expense</th>\n",
       "      <th>No_of_Fly_Members</th>\n",
       "      <th>Emi_or_Rent_Amt</th>\n",
       "      <th>Annual_HH_Income</th>\n",
       "      <th>No_of_Earning_Members</th>\n",
       "    </tr>\n",
       "  </thead>\n",
       "  <tbody>\n",
       "    <tr>\n",
       "      <th>Mthly_HH_Income</th>\n",
       "      <td>1.000000</td>\n",
       "      <td>0.649215</td>\n",
       "      <td>0.448317</td>\n",
       "      <td>0.036976</td>\n",
       "      <td>0.970315</td>\n",
       "      <td>0.347883</td>\n",
       "    </tr>\n",
       "    <tr>\n",
       "      <th>Mthly_HH_Expense</th>\n",
       "      <td>0.649215</td>\n",
       "      <td>1.000000</td>\n",
       "      <td>0.639702</td>\n",
       "      <td>0.405280</td>\n",
       "      <td>0.591222</td>\n",
       "      <td>0.311915</td>\n",
       "    </tr>\n",
       "    <tr>\n",
       "      <th>No_of_Fly_Members</th>\n",
       "      <td>0.448317</td>\n",
       "      <td>0.639702</td>\n",
       "      <td>1.000000</td>\n",
       "      <td>0.085808</td>\n",
       "      <td>0.430868</td>\n",
       "      <td>0.597482</td>\n",
       "    </tr>\n",
       "    <tr>\n",
       "      <th>Emi_or_Rent_Amt</th>\n",
       "      <td>0.036976</td>\n",
       "      <td>0.405280</td>\n",
       "      <td>0.085808</td>\n",
       "      <td>1.000000</td>\n",
       "      <td>0.002716</td>\n",
       "      <td>-0.097431</td>\n",
       "    </tr>\n",
       "    <tr>\n",
       "      <th>Annual_HH_Income</th>\n",
       "      <td>0.970315</td>\n",
       "      <td>0.591222</td>\n",
       "      <td>0.430868</td>\n",
       "      <td>0.002716</td>\n",
       "      <td>1.000000</td>\n",
       "      <td>0.296679</td>\n",
       "    </tr>\n",
       "    <tr>\n",
       "      <th>No_of_Earning_Members</th>\n",
       "      <td>0.347883</td>\n",
       "      <td>0.311915</td>\n",
       "      <td>0.597482</td>\n",
       "      <td>-0.097431</td>\n",
       "      <td>0.296679</td>\n",
       "      <td>1.000000</td>\n",
       "    </tr>\n",
       "  </tbody>\n",
       "</table>\n",
       "</div>"
      ],
      "text/plain": [
       "                       Mthly_HH_Income  Mthly_HH_Expense  No_of_Fly_Members  \\\n",
       "Mthly_HH_Income               1.000000          0.649215           0.448317   \n",
       "Mthly_HH_Expense              0.649215          1.000000           0.639702   \n",
       "No_of_Fly_Members             0.448317          0.639702           1.000000   \n",
       "Emi_or_Rent_Amt               0.036976          0.405280           0.085808   \n",
       "Annual_HH_Income              0.970315          0.591222           0.430868   \n",
       "No_of_Earning_Members         0.347883          0.311915           0.597482   \n",
       "\n",
       "                       Emi_or_Rent_Amt  Annual_HH_Income  \\\n",
       "Mthly_HH_Income               0.036976          0.970315   \n",
       "Mthly_HH_Expense              0.405280          0.591222   \n",
       "No_of_Fly_Members             0.085808          0.430868   \n",
       "Emi_or_Rent_Amt               1.000000          0.002716   \n",
       "Annual_HH_Income              0.002716          1.000000   \n",
       "No_of_Earning_Members        -0.097431          0.296679   \n",
       "\n",
       "                       No_of_Earning_Members  \n",
       "Mthly_HH_Income                     0.347883  \n",
       "Mthly_HH_Expense                    0.311915  \n",
       "No_of_Fly_Members                   0.597482  \n",
       "Emi_or_Rent_Amt                    -0.097431  \n",
       "Annual_HH_Income                    0.296679  \n",
       "No_of_Earning_Members               1.000000  "
      ]
     },
     "execution_count": 61,
     "metadata": {},
     "output_type": "execute_result"
    }
   ],
   "source": [
    "#correlation of all columns using built-in function\n",
    "df.corr()"
   ]
  },
  {
   "cell_type": "markdown",
   "id": "e155a589",
   "metadata": {},
   "source": [
    "<center><h3><u>Normal Distribution</u></h3></center>\n",
    "<h4><p>The normal distribution, also known as the Gaussian distribution, is the most important probability distribution in statistics for independent, random variables. Most people recognize its familiar bell-shaped curve in statistical reports.<br><br>\n",
    "The normal distribution is a continuous probability distribution that is symmetrical around its mean, most of the observations cluster around the central peak, and the probabilities for values further away from the mean taper off equally in both directions. Extreme values in both tails of the distribution are similarly unlikely. While the normal distribution is symmetrical, not all symmetrical distributions are normal. For example, the Student’s t, Cauchy, and logistic distributions are symmetric.<br><br>\n",
    "As with any probability distribution, the normal distribution describes how the values of a variable are distributed. It is the most important probability distribution in statistics because it accurately describes the distribution of values for many natural phenomena. Characteristics that are the sum of many independent processes frequently follow normal distributions. For example, heights, blood pressure, measurement error, and IQ scores follow the normal distribution.</p></h4>\n",
    "\n",
    "<center><h3>Formula:</h3><br>\n",
    "    <img src=\"normal_distribution_formula.jpg\" width=\"40%\">\n",
    "    <h3>Normal Distribution using Graph:</h3><br>\n",
    "    <img src=\"normal-distribution.jpg\" width=\"50%\">\n",
    "</center>\n",
    "<center><h3 style=\"color:blue;\"><u>Feature of Normal Distribution</u></h3></center>\n",
    "<p><h4>1.It is a symmetrical bell shaped curve.<br>\n",
    "       2.It is described by a mathematical density function having mean and standard deviation as parameters.<br>\n",
    "       3.Its skewness is zero and kurtosis is 3.<br>\n",
    "       4.It extends from (-) infinity to (+) infinity.<br>\n",
    "       5.Mean median and mode will be almost same\n",
    "</h4></p>\n",
    "<center><h3 style=\"color:blue;\"><u>Postively Skewed Normal Distribution:</u></h3></center>\n",
    "<p><h4>In statistics, a positively skewed (or right-skewed) distribution is a type of distribution in which most values are clustered around the left tail of the distribution while the right tail of the distribution is longer.</h4></p>\n",
    "<center><img src=\"right_skewed.png\" height=\"70%\"></center>\n",
    "<center><h3 style=\"color:blue;\"><u>Negatively Skewed Normal Distribution:</u></h3></center>\n",
    "<p><h4>In statistics, a negatively skewed (also known as left-skewed) distribution is a type of distribution in which more values are concentrated on the right side (tail) of the distribution graph while the left tail of the distribution graph is longer</h4></p>\n",
    "<center><img src=\"left_skewed.png\" height=\"70%\" width=\"50%\"></center>\n",
    "<center><h3 style=\"color:blue;\"><u>Effect on Mean, Median and Mode due to Skewness:</u></h3></center>\n",
    "<p><h4>If the mean is greater than the mode, the distribution is positively skewed. If the mean is less than the mode, the distribution is negatively skewed. If the mean is greater than the median, the distribution is positively skewed. If the mean is less than the median, the distribution is negatively skewed.</h4></p>\n",
    "<center><img src=\"pearson-mode-skewness.webp\"></center>\n"
   ]
  },
  {
   "cell_type": "markdown",
   "id": "b6290656",
   "metadata": {},
   "source": [
    "<center><h2><u>QQ Plot</u></h2></center>\n",
    "<h4><p>The quantile-quantile plot is a graphical method for determining whether two samples of data came from the same population or not. A q-q plot is a plot of the quantiles of the first data set against the quantiles of the second data set. By a quantile, we mean the fraction (or percent) of points below the given value.<br> \n",
    "For the reference purpose, a 45% line is also plotted, if the samples are from the same population then the points are along this line.</p></h4>\n",
    "\n",
    "<h3>Types of QQ Plot</h3>\n",
    "<p><b>1.Left-tailed distribution:</b>\n",
    "    <img src=\"lefted_tailed_qq.png\">\n",
    "    <b>2.Uniform distribution:</b>\n",
    "    <img src=\"uniform_qq.png\">\n",
    "    \n",
    "</p>"
   ]
  },
  {
   "cell_type": "markdown",
   "id": "5a8801e6",
   "metadata": {},
   "source": [
    "<h5>QQ Plot of Mthly_HH_Income column</h5>"
   ]
  },
  {
   "cell_type": "code",
   "execution_count": 62,
   "id": "96f2ccc6",
   "metadata": {},
   "outputs": [
    {
     "data": {
      "image/png": "[encoded data removed]",
      "text/plain": [
       "<Figure size 432x288 with 1 Axes>"
      ]
     },
     "metadata": {
      "needs_background": "light"
     },
     "output_type": "display_data"
    }
   ],
   "source": [
    "values=np.array(df['Mthly_HH_Income'])\n",
    "sm.qqplot(values, line = '45')\n",
    "plt.show()"
   ]
  },
  {
   "cell_type": "markdown",
   "id": "e2f36000",
   "metadata": {},
   "source": [
    "<h5>QQ Plot of Mthly_HH_Income column</h5>"
   ]
  },
  {
   "cell_type": "code",
   "execution_count": 63,
   "id": "10f3d572",
   "metadata": {},
   "outputs": [
    {
     "data": {
      "image/png": "[encoded data removed]",
      "text/plain": [
       "<Figure size 432x288 with 1 Axes>"
      ]
     },
     "metadata": {
      "needs_background": "light"
     },
     "output_type": "display_data"
    }
   ],
   "source": [
    "values=np.array(df['Mthly_HH_Expense'])\n",
    "sm.qqplot(values, line = '45')\n",
    "plt.show()"
   ]
  },
  {
   "cell_type": "markdown",
   "id": "d70aad06",
   "metadata": {},
   "source": [
    "<h5>QQ Plot of Annual_HH_Income\t column</h5>"
   ]
  },
  {
   "cell_type": "code",
   "execution_count": 64,
   "id": "c7867422",
   "metadata": {},
   "outputs": [
    {
     "data": {
      "image/png": "[encoded data removed]",
      "text/plain": [
       "<Figure size 432x288 with 1 Axes>"
      ]
     },
     "metadata": {
      "needs_background": "light"
     },
     "output_type": "display_data"
    }
   ],
   "source": [
    "values=np.array(df['Annual_HH_Income'])\n",
    "sm.qqplot(values, line = '45')\n",
    "plt.show()"
   ]
  },
  {
   "cell_type": "code",
   "execution_count": null,
   "id": "e802946b",
   "metadata": {},
   "outputs": [],
   "source": []
  }
 ],
 "metadata": {
  "kernelspec": {
   "display_name": "Python 3 (ipykernel)",
   "language": "python",
   "name": "python3"
  },
  "language_info": {
   "codemirror_mode": {
    "name": "ipython",
    "version": 3
   },
   "file_extension": ".py",
   "mimetype": "text/x-python",
   "name": "python",
   "nbconvert_exporter": "python",
   "pygments_lexer": "ipython3",
   "version": "3.9.7"
  }
 },
 "nbformat": 4,
 "nbformat_minor": 5
}
